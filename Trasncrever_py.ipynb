{
  "cells": [
    {
      "cell_type": "markdown",
      "metadata": {
        "id": "view-in-github",
        "colab_type": "text"
      },
      "source": [
        "<a href=\"https://colab.research.google.com/github/janilsonpassos/transcritor-whisper/blob/main/Trasncrever_py.ipynb\" target=\"_parent\"><img src=\"https://colab.research.google.com/assets/colab-badge.svg\" alt=\"Open In Colab\"/></a>"
      ]
    },
    {
      "cell_type": "code",
      "execution_count": null,
      "metadata": {
        "id": "PXu_R1zJbpNP"
      },
      "outputs": [],
      "source": [
        "%%capture\n",
        "!pip install git+https://github.com/openai/whisper.git\n",
        "!sudo apt update && sudo apt install ffmpeg\n"
      ]
    },
    {
      "cell_type": "code",
      "execution_count": null,
      "metadata": {
        "id": "kIkrmbMEbj-2"
      },
      "outputs": [],
      "source": [
        "# 1. Recebe o nome do arquivo\n",
        "arquivo = input(\"Entre com o nome do arquivo de áudio/vídeo (ex: Audio4.mp3): \")\n",
        "\n",
        "# 2. Divide o áudio em partes de 5 minutos\n",
        "print(\"Dividindo o áudio em partes menores (5 min)...\")\n",
        "!ffmpeg -i {arquivo} -f segment -segment_time 300 -c copy parte_%03d.mp3\n",
        "\n",
        "# 3. Transcreve cada parte individualmente\n",
        "import os\n",
        "import glob\n",
        "\n",
        "partes = sorted(glob.glob(\"parte_*.mp3\"))\n",
        "\n",
        "# tiny = Baixa - Muito rápido\n",
        "# base = Boa - Razoável\n",
        "# small = Muito boa -  Médio\n",
        "# medium = Ótima - Lento\n",
        "\n",
        "print(\"Transcrevendo...\\n\")\n",
        "for i, parte in enumerate(partes):\n",
        "    print(f\"Transcrevendo {parte}...\")\n",
        "    !whisper {parte} --model medium --task transcribe --language pt --output_format txt\n",
        "\n",
        "print(\"✅ Transcrição finalizada. Baixe os arquivos .txt gerados.\")\n"
      ]
    },
    {
      "cell_type": "code",
      "source": [
        "# 6. Juntar todas as transcrições em um único arquivo final\n",
        "arquivos_txt = sorted(glob.glob(\"parte_*.txt\"))\n",
        "\n",
        "with open(\"transcricao_final.txt\", \"w\", encoding=\"utf-8\") as final:\n",
        "    for nome_txt in arquivos_txt:\n",
        "        with open(nome_txt, \"r\", encoding=\"utf-8\") as f:\n",
        "            final.write(f\"### {nome_txt} ###\\n\")\n",
        "            final.write(f.read() + \"\\n\\n\")\n",
        "\n",
        "print(\"✅ Transcrição final unificada em: transcricao_final.txt\")\n"
      ],
      "metadata": {
        "colab": {
          "base_uri": "https://localhost:8080/"
        },
        "id": "x6AOaP3BB9xT",
        "outputId": "e33609f2-6392-4051-f872-ed3c71de78e6"
      },
      "execution_count": null,
      "outputs": [
        {
          "output_type": "stream",
          "name": "stdout",
          "text": [
            "✅ Transcrição final unificada em: transcricao_final.txt\n"
          ]
        }
      ]
    },
    {
      "cell_type": "code",
      "source": [
        "#Excluir todos os arquivos para iniciar uma nova transcrição, OBS: atualize no botão após a exclusão\n",
        "!rm *.mp3\n",
        "!rm *.txt\n",
        "!rm -r whisper  # se tiver uma pasta gerada"
      ],
      "metadata": {
        "colab": {
          "base_uri": "https://localhost:8080/"
        },
        "id": "A1a4Iyi2DaWj",
        "outputId": "d5227c95-fa77-47b9-eb35-139eca6c63c1"
      },
      "execution_count": 1,
      "outputs": [
        {
          "output_type": "stream",
          "name": "stdout",
          "text": [
            "rm: cannot remove '*.mp3': No such file or directory\n",
            "rm: cannot remove '*.txt': No such file or directory\n",
            "rm: cannot remove 'whisper': No such file or directory\n"
          ]
        }
      ]
    }
  ],
  "metadata": {
    "colab": {
      "provenance": [],
      "gpuType": "T4",
      "mount_file_id": "1aqJ2NWSVYxIzfq7ZJQr8nh5ply6VLRrG",
      "authorship_tag": "ABX9TyM6mBNgTHbufrK2pYCZvAaV",
      "include_colab_link": true
    },
    "kernelspec": {
      "display_name": "Python 3",
      "name": "python3"
    },
    "language_info": {
      "name": "python"
    },
    "accelerator": "GPU"
  },
  "nbformat": 4,
  "nbformat_minor": 0
}